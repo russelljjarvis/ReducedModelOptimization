{
 "cells": [
  {
   "cell_type": "markdown",
   "metadata": {},
   "source": [
    "# An example of using BluePyOpt/NeuronUnit Optimization\n",
    "Using:\n",
    "* Allen Brain Experimental data (`specimen_id=325479788`, sweep number `64`) to derive features from.\n",
    "* EFEL feature extraction\n",
    "* BluePyOpt Optimization.\n",
    "* Numba JIT simple cell models (Izhikevich, Adaptive Exponential).\n",
    "* Neuronunit model scoring"
   ]
  },
  {
   "cell_type": "code",
   "execution_count": 1,
   "metadata": {},
   "outputs": [
    {
     "name": "stderr",
     "output_type": "stream",
     "text": [
      "test\n"
     ]
    }
   ],
   "source": [
    "import matplotlib.pyplot as plt\n",
    "import seaborn as sns\n",
    "sns.set(context=\"paper\", font=\"monospace\")\n",
    "%matplotlib inline\n",
    "SILENT = True\n",
    "import warnings\n",
    "if SILENT:\n",
    "    warnings.filterwarnings(\"ignore\")\n",
    "\n",
    "from neuronunit.plotting.plot_utils import check_bin_vm_soma\n",
    "from neuronunit.allenapi.allen_data_driven import opt_setup\n",
    "from nb_utils import optimize_job\n",
    "from sciunit.scores import RelativeDifferenceScore\n",
    "import pandas as pd\n",
    "import pickle\n",
    "import quantities as pq\n",
    "specimen_id = 325479788\n"
   ]
  },
  {
   "cell_type": "code",
   "execution_count": 2,
   "metadata": {},
   "outputs": [],
   "source": [
    "def test_opt_relative_diff(specimen_id,model_type = \"ADEXP\",efel_filter_iterable=None):\n",
    "    fitnesses,scores,obs_preds,opt,target,hall_of_fame,cell_evaluator = optimize_job(specimen_id,\n",
    "                                                 model_type,\n",
    "                                                 score_type=RelativeDifferenceScore,\n",
    "                                                 efel_filter_iterable=efel_filter_iterable)\n",
    "    print(fitnesses)\n",
    "    return obs_preds,opt,target,hall_of_fame,cell_evaluator\n"
   ]
  },
  {
   "cell_type": "markdown",
   "metadata": {},
   "source": [
    "# Below is a plot of vm trace for fitting the simple model to with neuron unit.\n",
    "* It is from Allen Specimen id `325479788`, sweep number `64`.\n",
    "* sweep number \n"
   ]
  },
  {
   "cell_type": "code",
   "execution_count": 3,
   "metadata": {},
   "outputs": [
    {
     "data": {
      "image/png": "[encoded data removed]",
      "text/plain": [
       "<Figure size 432x288 with 1 Axes>"
      ]
     },
     "metadata": {
      "needs_background": "light"
     },
     "output_type": "display_data"
    }
   ],
   "source": [
    "with open('325479788later_allen_NU_tests.p', \"rb\") as f:\n",
    "    suite = pickle.load(f)\n",
    "    \n",
    "plt.plot(suite.traces[\"vm_soma\"].times,suite.traces[\"vm_soma\"])\n",
    "plt.xlabel(pq.s)\n",
    "plt.ylabel(suite.traces[\"vm_soma\"].dimensionality)\n",
    "plt.title(\"$V_{M}$ Allen Specimen id 325479788, sweep number 64\")\n",
    "plt.show()\n"
   ]
  },
  {
   "cell_type": "markdown",
   "metadata": {},
   "source": [
    "# Example 1\n",
    "* Izhikevich model \n",
    "* Allen specimen 325479788"
   ]
  },
  {
   "cell_type": "code",
   "execution_count": 4,
   "metadata": {
    "slideshow": {
     "slide_type": "slide"
    }
   },
   "outputs": [
    {
     "name": "stderr",
     "output_type": "stream",
     "text": [
      "gen\tnevals\tavg    \tstd    \tmin    \tmax  \n",
      "1  \t55    \t3579.65\t5665.69\t6.29892\t13000\n"
     ]
    },
    {
     "data": {
      "application/vnd.jupyter.widget-view+json": {
       "model_id": "13b1cebbf77848c5984b5a817cf759b8",
       "version_major": 2,
       "version_minor": 0
      },
      "text/plain": [
       "HBox(children=(FloatProgress(value=0.0), HTML(value='')))"
      ]
     },
     "metadata": {},
     "output_type": "display_data"
    },
    {
     "name": "stderr",
     "output_type": "stream",
     "text": [
      "2  \t50    \t3142.32\t5375.61\t4.68266\t13000\n",
      "3  \t21    \t929.524\t3199.42\t4.68266\t13000\n",
      "4  \t22    \t571.999\t2649.66\t4.44294\t13000\n",
      "5  \t21    \t636.439\t2647.42\t4.44294\t13000\n",
      "6  \t20    \t309.641\t1897.38\t4.27987\t13000\n",
      "7  \t20    \t5.30262\t1.07967\t4.27987\t9.66191\n",
      "8  \t22    \t5.74336\t1.96382\t3.94198\t13.4015\n",
      "9  \t18    \t288.869\t1894.87\t3.94198\t13000  \n",
      "10 \t19    \t4.78215\t0.728935\t3.94198\t7.48433\n",
      "11 \t22    \t27.0885\t145.895 \t3.94198\t1005.75\n",
      "12 \t18    \t48.553 \t204.077 \t3.94198\t1005.75\n",
      "13 \t20    \t4.85321\t0.705423\t1.93289\t6.24407\n",
      "14 \t21    \t287.353\t1895.09 \t1.29197\t13000  \n",
      "15 \t19    \t873.433\t3206.38 \t1.29197\t13000  \n",
      "16 \t19    \t590.054\t2649.82 \t1.29197\t13000  \n",
      "17 \t20    \t2024.07\t4654.48 \t1.29197\t13000  \n",
      "18 \t18    \t1719.27\t4371.43 \t1.29197\t13000  \n",
      "19 \t19    \t1414.45\t4045.85 \t1.29197\t13000  \n",
      "20 \t18    \t45.888 \t204.5   \t1.29197\t1005.64\n",
      "21 \t15    \t893.818\t3204.14 \t1.29197\t13000  \n",
      "22 \t18    \t284.123\t1895.57 \t1.29197\t13000  \n",
      "23 \t16    \t305.681\t1897.98 \t1.29197\t13000  \n",
      "24 \t18    \t1153.64\t3658.79 \t1.29197\t13000  \n",
      "25 \t16    \t566.66 \t2650.8  \t1.29197\t13000  \n",
      "26 \t18    \t566.661\t2650.8  \t1.29197\t13000  \n",
      "27 \t17    \t914.392\t3201.75 \t1.29197\t13000  \n",
      "28 \t22    \t305.781\t1897.96 \t1.29197\t13000  \n",
      "29 \t14    \t588.583\t2650.14 \t1.29197\t13000  \n",
      "30 \t13    \t892.675\t3204.48 \t1.29197\t13000  \n",
      "31 \t18    \t849.316\t3209.42 \t1.29197\t13000  \n",
      "32 \t18    \t305.668\t1897.99 \t1.29197\t13000  \n",
      "33 \t20    \t1.35018\t0.390499\t1.29197\t3.96972\n",
      "34 \t15    \t327.879\t1900.04 \t1.29197\t13000  \n",
      "35 \t20    \t23.1643\t145.984 \t1.29197\t1002.45\n",
      "36 \t14    \t936.417\t3198.79 \t1.29197\t13000  \n",
      "37 \t19    \t1153.75\t3658.74 \t1.29197\t13000  \n",
      "38 \t20    \t1414.38\t4045.87 \t1.29197\t13000  \n",
      "39 \t12    \t892.769\t3204.45 \t1.29197\t13000  \n",
      "40 \t12    \t283.927\t1895.6  \t1.27818\t13000  \n",
      "41 \t13    \t566.512\t2650.83 \t1.27818\t13000  \n",
      "42 \t12    \t1153.48\t3658.82 \t1.27818\t13000  \n",
      "43 \t11    \t305.714\t1897.97 \t1.27818\t13000  \n",
      "44 \t14    \t849.115\t3209.48 \t1.27818\t13000  \n",
      "45 \t11    \t45.0149\t204.634 \t1.27818\t1005.56\n",
      "46 \t10    \t1067.65\t3178.29 \t1.27818\t13000  \n",
      "47 \t13    \t284.145\t1895.57 \t1.27818\t13000  \n",
      "48 \t13    \t849.095\t3209.48 \t1.27818\t13000  \n",
      "49 \t13    \t305.633\t1897.98 \t1.27818\t13000  \n",
      "50 \t13    \t1.43885\t0.721297\t1.19798\t5.82628\n",
      "51 \t13    \t1697   \t4377.63 \t1.19798\t13000  \n",
      "52 \t17    \t1131.73\t3662.63 \t1.19794\t13000  \n",
      "53 \t8     \t283.926\t1895.6  \t1.19794\t13000  \n",
      "54 \t10    \t1.36396\t0.567938\t1.19794\t5.16791\n",
      "55 \t10    \t588.284\t2650.2  \t1.19794\t13000  \n",
      "56 \t8     \t23.1458\t146.499 \t1.19794\t1005.88\n",
      "57 \t9     \t305.637\t1897.99 \t1.19794\t13000  \n",
      "58 \t15    \t283.915\t1895.6  \t1.19794\t13000  \n",
      "59 \t11    \t566.514\t2650.83 \t1.19794\t13000  \n",
      "60 \t10    \t588.414\t2650.17 \t1.19794\t13000  \n",
      "61 \t9     \t327.379\t1900.12 \t1.19794\t13000  \n",
      "62 \t8     \t327.48 \t1900.13 \t1.19794\t13000  \n",
      "63 \t14    \t305.72 \t1897.97 \t1.19794\t13000  \n",
      "64 \t12    \t284.036\t1895.58 \t1.19794\t13000  \n",
      "65 \t11    \t588.171\t2650.23 \t1.19794\t13000  \n",
      "66 \t8     \t566.475\t2650.84 \t1.19794\t13000  \n",
      "67 \t15    \t305.752\t1898    \t1.19794\t13000  \n",
      "68 \t11    \t1.42582\t0.598338\t1.19794\t5.15149\n",
      "69 \t7     \t610.068\t2649.4  \t1.19794\t13000  \n",
      "70 \t7     \t1.52708\t0.587385\t1.19794\t4.42789\n",
      "71 \t11    \t44.8841\t204.122 \t1.19794\t1002.41\n",
      "72 \t12    \t23.1617\t145.961 \t1.19187\t1002.29\n",
      "73 \t18    \t1153.52\t3658.81 \t1.19187\t13000  \n",
      "74 \t10    \t566.505\t2650.83 \t1.19187\t13000  \n",
      "75 \t11    \t284.03 \t1895.58 \t1.15788\t13000  \n",
      "76 \t9     \t566.398\t2650.85 \t1.15788\t13000  \n",
      "77 \t13    \t610.022\t2649.41 \t1.15788\t13000  \n",
      "78 \t6     \t283.83 \t1895.61 \t1.15788\t13000  \n",
      "79 \t11    \t1.4523 \t0.645157\t1.15788\t5.64101\n",
      "80 \t7     \t284.573\t1895.5  \t1.15788\t13000  \n",
      "81 \t16    \t892.736\t3204.49 \t1.15788\t13000  \n",
      "82 \t10    \t23.162 \t145.979 \t1.15788\t1002.42\n",
      "83 \t14    \t631.881\t2648.41 \t1.15788\t13000  \n",
      "84 \t15    \t653.508\t2647.28 \t1.15788\t13000  \n",
      "85 \t9     \t284.004\t1895.59 \t1.15788\t13000  \n",
      "86 \t6     \t849.08 \t3209.49 \t1.15788\t13000  \n",
      "87 \t11    \t566.459\t2650.84 \t1.15491\t13000  \n",
      "88 \t11    \t23.0047\t145.946 \t1.15491\t1002.04\n",
      "89 \t11    \t458.128\t1907.56 \t1.15491\t13000  \n",
      "90 \t8     \t1.23146\t0.0741164\t1.15449\t1.38766\n",
      "91 \t7     \t327.366\t1900.11  \t1.15449\t13000  \n",
      "92 \t10    \t588.348\t2650.19  \t1.15449\t13000  \n",
      "93 \t15    \t870.786\t3207.07  \t1.15449\t13000  \n",
      "94 \t15    \t1.38355\t0.722768 \t1.15449\t6.22236\n",
      "95 \t10    \t566.374\t2650.86  \t1.15449\t13000  \n",
      "96 \t12    \t23.0546\t145.939  \t1.15449\t1002.04\n",
      "97 \t18    \t371.181\t1903.54  \t1.15449\t13000  \n",
      "98 \t8     \t283.804\t1895.62  \t1.15449\t13000  \n",
      "99 \t10    \t1.30609\t0.216256 \t1.15449\t2.72631\n",
      "100\t12    \t1131.57\t3662.68  \t1.15449\t13000  \n",
      "Run stopped because of stopping criteria: Max ngen\n"
     ]
    },
    {
     "name": "stdout",
     "output_type": "stream",
     "text": [
      "\n",
      "[41.07822391967081, 1.0293832646957908, -71.68940604629864, -42.00611213751985, 35.78028705728246, 0.026242741474065173, 0.5338076597001644, -50.48477490548417, 117.2942825335357, 6.191058715700168] the gene\n",
      "1.1544866522514312\n"
     ]
    }
   ],
   "source": [
    "efel_filter_iterable = [\n",
    "    \"Spikecount\",\n",
    "    \"ISI_log_slope\",    \n",
    "    \"ISI_CV\",\n",
    "    \"peak_voltage\"]\n",
    "obs_preds,opt,target,hall_of_fame,cell_evaluator = test_opt_relative_diff(specimen_id = 325479788,\n",
    "                                                                          model_type=\"ADEXP\",\n",
    "                                                                          efel_filter_iterable=efel_filter_iterable)\n"
   ]
  },
  {
   "cell_type": "code",
   "execution_count": 5,
   "metadata": {},
   "outputs": [
    {
     "data": {
      "image/png": "[encoded data removed]",
      "text/plain": [
       "<Figure size 432x288 with 1 Axes>"
      ]
     },
     "metadata": {
      "needs_background": "light"
     },
     "output_type": "display_data"
    }
   ],
   "source": [
    "\n",
    "check_bin_vm_soma(target,opt)"
   ]
  },
  {
   "cell_type": "code",
   "execution_count": 8,
   "metadata": {},
   "outputs": [
    {
     "data": {
      "text/html": [
       "<div>\n",
       "<style scoped>\n",
       "    .dataframe tbody tr th:only-of-type {\n",
       "        vertical-align: middle;\n",
       "    }\n",
       "\n",
       "    .dataframe tbody tr th {\n",
       "        vertical-align: top;\n",
       "    }\n",
       "\n",
       "    .dataframe thead th {\n",
       "        text-align: right;\n",
       "    }\n",
       "</style>\n",
       "<table border=\"1\" class=\"dataframe\">\n",
       "  <thead>\n",
       "    <tr style=\"text-align: right;\">\n",
       "      <th></th>\n",
       "      <th>EFEL_feature_NU_test_Name</th>\n",
       "      <th>prediction</th>\n",
       "      <th>observation</th>\n",
       "      <th>neuronunit_score</th>\n",
       "    </tr>\n",
       "  </thead>\n",
       "  <tbody>\n",
       "    <tr>\n",
       "      <th>0</th>\n",
       "      <td>Spikecount</td>\n",
       "      <td>9.000000</td>\n",
       "      <td>9.000000</td>\n",
       "      <td>Relative Difference = 0.00</td>\n",
       "    </tr>\n",
       "    <tr>\n",
       "      <th>1</th>\n",
       "      <td>ISI_log_slope</td>\n",
       "      <td>0.485704</td>\n",
       "      <td>0.000085</td>\n",
       "      <td>Relative Difference = 0.49</td>\n",
       "    </tr>\n",
       "    <tr>\n",
       "      <th>2</th>\n",
       "      <td>ISI_CV</td>\n",
       "      <td>0.476055</td>\n",
       "      <td>0.000589</td>\n",
       "      <td>Relative Difference = 0.48</td>\n",
       "    </tr>\n",
       "    <tr>\n",
       "      <th>3</th>\n",
       "      <td>peak_voltage</td>\n",
       "      <td>33.027779</td>\n",
       "      <td>33.057239</td>\n",
       "      <td>Relative Difference = 0.03</td>\n",
       "    </tr>\n",
       "    <tr>\n",
       "      <th>4</th>\n",
       "      <td>spike_0</td>\n",
       "      <td>1.074385</td>\n",
       "      <td>1.021250</td>\n",
       "      <td>Relative Difference = 0.05</td>\n",
       "    </tr>\n",
       "    <tr>\n",
       "      <th>5</th>\n",
       "      <td>spike_1</td>\n",
       "      <td>1.133280</td>\n",
       "      <td>1.109000</td>\n",
       "      <td>Relative Difference = 0.02</td>\n",
       "    </tr>\n",
       "    <tr>\n",
       "      <th>6</th>\n",
       "      <td>spike_2</td>\n",
       "      <td>1.203080</td>\n",
       "      <td>1.199750</td>\n",
       "      <td>Relative Difference = 0.00</td>\n",
       "    </tr>\n",
       "    <tr>\n",
       "      <th>7</th>\n",
       "      <td>spike_3</td>\n",
       "      <td>1.274420</td>\n",
       "      <td>1.290500</td>\n",
       "      <td>Relative Difference = 0.02</td>\n",
       "    </tr>\n",
       "    <tr>\n",
       "      <th>8</th>\n",
       "      <td>spike_4</td>\n",
       "      <td>1.350750</td>\n",
       "      <td>1.381250</td>\n",
       "      <td>Relative Difference = 0.03</td>\n",
       "    </tr>\n",
       "    <tr>\n",
       "      <th>9</th>\n",
       "      <td>spike_5</td>\n",
       "      <td>1.440345</td>\n",
       "      <td>1.472000</td>\n",
       "      <td>Relative Difference = 0.03</td>\n",
       "    </tr>\n",
       "    <tr>\n",
       "      <th>10</th>\n",
       "      <td>spike_6</td>\n",
       "      <td>1.541740</td>\n",
       "      <td>1.562750</td>\n",
       "      <td>Relative Difference = 0.02</td>\n",
       "    </tr>\n",
       "    <tr>\n",
       "      <th>11</th>\n",
       "      <td>spike_7</td>\n",
       "      <td>1.679645</td>\n",
       "      <td>1.653500</td>\n",
       "      <td>Relative Difference = 0.03</td>\n",
       "    </tr>\n",
       "    <tr>\n",
       "      <th>12</th>\n",
       "      <td>spike_8</td>\n",
       "      <td>1.891995</td>\n",
       "      <td>1.744250</td>\n",
       "      <td>Relative Difference = 0.15</td>\n",
       "    </tr>\n",
       "  </tbody>\n",
       "</table>\n",
       "</div>"
      ],
      "text/plain": [
       "   EFEL_feature_NU_test_Name  prediction  observation  \\\n",
       "0                 Spikecount    9.000000     9.000000   \n",
       "1              ISI_log_slope    0.485704     0.000085   \n",
       "2                     ISI_CV    0.476055     0.000589   \n",
       "3               peak_voltage   33.027779    33.057239   \n",
       "4                    spike_0    1.074385     1.021250   \n",
       "5                    spike_1    1.133280     1.109000   \n",
       "6                    spike_2    1.203080     1.199750   \n",
       "7                    spike_3    1.274420     1.290500   \n",
       "8                    spike_4    1.350750     1.381250   \n",
       "9                    spike_5    1.440345     1.472000   \n",
       "10                   spike_6    1.541740     1.562750   \n",
       "11                   spike_7    1.679645     1.653500   \n",
       "12                   spike_8    1.891995     1.744250   \n",
       "\n",
       "              neuronunit_score  \n",
       "0   Relative Difference = 0.00  \n",
       "1   Relative Difference = 0.49  \n",
       "2   Relative Difference = 0.48  \n",
       "3   Relative Difference = 0.03  \n",
       "4   Relative Difference = 0.05  \n",
       "5   Relative Difference = 0.02  \n",
       "6   Relative Difference = 0.00  \n",
       "7   Relative Difference = 0.02  \n",
       "8   Relative Difference = 0.03  \n",
       "9   Relative Difference = 0.03  \n",
       "10  Relative Difference = 0.02  \n",
       "11  Relative Difference = 0.03  \n",
       "12  Relative Difference = 0.15  "
      ]
     },
     "execution_count": 8,
     "metadata": {},
     "output_type": "execute_result"
    }
   ],
   "source": [
    "df = pd.DataFrame(obs_preds)\n",
    "df.rename(columns={0:'EFEL_feature_NU_test_Name',1:'prediction',2:'observation',3:'neuronunit_score'},inplace=True)\n",
    "df"
   ]
  },
  {
   "cell_type": "markdown",
   "metadata": {},
   "source": [
    "# Example 2\n",
    "* Now fit Adaptive Exponential model to a single sweep from Allen specimen 325479788 sweep number 64"
   ]
  },
  {
   "cell_type": "code",
   "execution_count": 9,
   "metadata": {},
   "outputs": [
    {
     "data": {
      "text/plain": [
       "array(92.53890991) * pA"
      ]
     },
     "execution_count": 9,
     "metadata": {},
     "output_type": "execute_result"
    }
   ],
   "source": [
    "\n",
    "opt.seeded_current"
   ]
  },
  {
   "cell_type": "code",
   "execution_count": 10,
   "metadata": {},
   "outputs": [
    {
     "name": "stdout",
     "output_type": "stream",
     "text": [
      "9.0\n"
     ]
    }
   ],
   "source": [
    "target_current = {'value':opt.seeded_current}\n",
    "import numpy as np\n",
    "from neuronunit.optimization.optimization_management import inject_model_soma\n",
    "_, _, _, _, opt = inject_model_soma(opt, solve_for_current=target_current[\"value\"])\n",
    "np.max(opt.vm_soma)\n",
    "print(opt.spk_count)"
   ]
  },
  {
   "cell_type": "code",
   "execution_count": 11,
   "metadata": {},
   "outputs": [
    {
     "data": {
      "image/png": "[encoded data removed]",
      "text/plain": [
       "<Figure size 432x288 with 1 Axes>"
      ]
     },
     "metadata": {
      "needs_background": "light"
     },
     "output_type": "display_data"
    }
   ],
   "source": [
    "check_bin_vm_soma(target,opt)"
   ]
  },
  {
   "cell_type": "code",
   "execution_count": 12,
   "metadata": {},
   "outputs": [
    {
     "data": {
      "text/plain": [
       "array(255.22966008) * pA"
      ]
     },
     "execution_count": 12,
     "metadata": {},
     "output_type": "execute_result"
    }
   ],
   "source": [
    "observation_range = {}\n",
    "observation_range[\"value\"] = opt.spk_count\n",
    "from neuronunit.tests.target_spike_current import SpikeCountSearch\n",
    "#\n",
    "scs = SpikeCountSearch(observation_range)\n",
    "target_current = scs.generate_prediction(opt.dtc_to_model())\n",
    "\n",
    "opt.solve_for_current# = target_current[\"value\"]"
   ]
  },
  {
   "cell_type": "code",
   "execution_count": 13,
   "metadata": {},
   "outputs": [],
   "source": [
    "best_ind = hall_of_fame[0]\n",
    "fitnesses = cell_evaluator.evaluate_with_lists(best_ind)\n"
   ]
  },
  {
   "cell_type": "code",
   "execution_count": 14,
   "metadata": {},
   "outputs": [],
   "source": [
    "#cell_evaluator.cell_model.attrs\n",
    "opt.attrs = {\n",
    "        str(k): float(v) for k, v in cell_evaluator.param_dict(best_ind).items()\n",
    "    }"
   ]
  },
  {
   "cell_type": "code",
   "execution_count": 15,
   "metadata": {},
   "outputs": [
    {
     "name": "stdout",
     "output_type": "stream",
     "text": [
      "{'C': 41.07822391967081, 'k': 1.0293832646957908, 'vr': -71.68940604629864, 'vt': -42.00611213751985, 'vPeak': 35.78028705728246, 'a': 0.026242741474065173, 'b': 0.5338076597001644, 'c': -50.48477490548417, 'd': 117.2942825335357, 'celltype': 6.191058715700168}\n",
      "{'value': array(255.22966008) * pA}\n",
      "{'C': 41.07822391967081, 'k': 1.0293832646957908, 'vr': -71.68940604629864, 'vt': -42.00611213751985, 'vPeak': 35.78028705728246, 'a': 0.026242741474065173, 'b': 0.5338076597001644, 'c': -50.48477490548417, 'd': 117.2942825335357, 'celltype': 6.191058715700168}\n"
     ]
    }
   ],
   "source": [
    "observation_range = {}\n",
    "observation_range[\"value\"] = opt.spk_count\n",
    "from neuronunit.tests.target_spike_current import SpikeCountSearch\n",
    "\n",
    "scs = SpikeCountSearch(observation_range)\n",
    "print(opt.attrs)\n",
    "#opt.attrs = cell_evaluator.cell_model.attrs\n",
    "target_current = scs.generate_prediction(opt.dtc_to_model())\n",
    "opt.solve_for_current = target_current[\"value\"]\n",
    "print(target_current)\n",
    "print(opt.attrs)\n"
   ]
  },
  {
   "cell_type": "code",
   "execution_count": 16,
   "metadata": {},
   "outputs": [
    {
     "name": "stdout",
     "output_type": "stream",
     "text": [
      "{'C': 41.07822391967081, 'k': 1.0293832646957908, 'vr': -71.68940604629864, 'vt': -42.00611213751985, 'vPeak': 35.78028705728246, 'a': 0.026242741474065173, 'b': 0.5338076597001644, 'c': -50.48477490548417, 'd': 117.2942825335357, 'celltype': 6.191058715700168}\n"
     ]
    },
    {
     "data": {
      "text/plain": [
       "[<matplotlib.lines.Line2D at 0x7f9ba65f6210>]"
      ]
     },
     "execution_count": 16,
     "metadata": {},
     "output_type": "execute_result"
    },
    {
     "data": {
      "image/png": "[encoded data removed]",
      "text/plain": [
       "<Figure size 432x288 with 1 Axes>"
      ]
     },
     "metadata": {
      "needs_background": "light"
     },
     "output_type": "display_data"
    }
   ],
   "source": [
    "#check_bin_vm_soma(target,opt)\n",
    "ALLEN_DELAY = 1000.0 * pq.ms\n",
    "ALLEN_DURATION = 2000.0 * pq.ms\n",
    "uc = {\n",
    "    \"amplitude\": target_current[\"value\"],\n",
    "    \"duration\": ALLEN_DURATION,\n",
    "    \"delay\": ALLEN_DELAY,\n",
    "    \"padding\":342.85* pq.ms\n",
    "}\n",
    "#model = dtc.dtc_to_model()\n",
    "#temp = model.attrs\n",
    "model = opt.dtc_to_model()\n",
    "print(model.attrs)\n",
    "model.inject_square_current(**uc)\n",
    "n_spikes = model.get_spike_count()\n",
    "vm_soma = model.get_membrane_potential()\n",
    "opt.vm_soma = vm_soma\n",
    "\n",
    "plt.plot(vm_soma.times,vm_soma)"
   ]
  },
  {
   "cell_type": "code",
   "execution_count": null,
   "metadata": {},
   "outputs": [],
   "source": []
  },
  {
   "cell_type": "code",
   "execution_count": null,
   "metadata": {},
   "outputs": [],
   "source": []
  }
 ],
 "metadata": {
  "kernelspec": {
   "display_name": "Python 3",
   "language": "python",
   "name": "python3"
  },
  "language_info": {
   "codemirror_mode": {
    "name": "ipython",
    "version": 3
   },
   "file_extension": ".py",
   "mimetype": "text/x-python",
   "name": "python",
   "nbconvert_exporter": "python",
   "pygments_lexer": "ipython3",
   "version": "3.7.4"
  }
 },
 "nbformat": 4,
 "nbformat_minor": 2
}
