{
 "cells": [
  {
   "cell_type": "markdown",
   "metadata": {},
   "source": [
    "# An example of using BluePyOpt/NeuronUnit Optimization\n",
    "Using:\n",
    "* Allen Brain Experimental data (`specimen_id=325479788`, sweep number `64`) to derive features from.\n",
    "* EFEL feature extraction\n",
    "* BluePyOpt Optimization.\n",
    "* Numba JIT simple cell models (Izhikevich, Adaptive Exponential).\n",
    "* Neuronunit model scoring"
   ]
  },
  {
   "cell_type": "code",
   "execution_count": 1,
   "metadata": {},
   "outputs": [
    {
     "name": "stderr",
     "output_type": "stream",
     "text": [
      "test\n"
     ]
    }
   ],
   "source": [
    "import matplotlib.pyplot as plt\n",
    "import seaborn as sns\n",
    "sns.set(context=\"paper\", font=\"monospace\")\n",
    "%matplotlib inline\n",
    "SILENT = True\n",
    "import warnings\n",
    "if SILENT:\n",
    "    warnings.filterwarnings(\"ignore\")\n",
    "\n",
    "from neuronunit.plotting.plot_utils import check_bin_vm_soma\n",
    "from neuronunit.allenapi.allen_data_driven import opt_setup\n",
    "from nb_utils import optimize_job\n",
    "from sciunit.scores import RelativeDifferenceScore\n",
    "import pandas as pd\n",
    "import pickle\n",
    "import quantities as pq\n",
    "specimen_id = 325479788\n"
   ]
  },
  {
   "cell_type": "code",
   "execution_count": 2,
   "metadata": {},
   "outputs": [],
   "source": [
    "def test_opt_relative_diff(specimen_id,model_type = \"ADEXP\",efel_filter_iterable=None):    \n",
    "    _,scores,obs_preds,opt,target = optimize_job(specimen_id,\n",
    "                                                 model_type,\n",
    "                                                 score_type=RelativeDifferenceScore,\n",
    "                                                 efel_filter_iterable=efel_filter_iterable)\n",
    "    return obs_preds,opt,target\n"
   ]
  },
  {
   "cell_type": "markdown",
   "metadata": {},
   "source": [
    "# Below is a plot of vm trace for fitting the simple model to with neuron unit.\n",
    "* It is from Allen Specimen id `325479788`, sweep number `64`.\n",
    "* sweep number \n"
   ]
  },
  {
   "cell_type": "code",
   "execution_count": 3,
   "metadata": {},
   "outputs": [
    {
     "data": {
      "image/png": "[encoded data removed]",
      "text/plain": [
       "<Figure size 432x288 with 1 Axes>"
      ]
     },
     "metadata": {
      "needs_background": "light"
     },
     "output_type": "display_data"
    }
   ],
   "source": [
    "with open('325479788later_allen_NU_tests.p', \"rb\") as f:\n",
    "    suite = pickle.load(f)\n",
    "    \n",
    "plt.plot(suite.traces[\"vm_soma\"].times,suite.traces[\"vm_soma\"])\n",
    "plt.xlabel(pq.s)\n",
    "plt.ylabel(suite.traces[\"vm_soma\"].dimensionality)\n",
    "plt.title(\"$V_{M}$ Allen Specimen id 325479788, sweep number 64\")\n",
    "plt.show()\n"
   ]
  },
  {
   "cell_type": "markdown",
   "metadata": {},
   "source": [
    "# Example 1\n",
    "* Izhikevich model \n",
    "* Allen specimen 325479788"
   ]
  },
  {
   "cell_type": "code",
   "execution_count": 4,
   "metadata": {
    "slideshow": {
     "slide_type": "slide"
    }
   },
   "outputs": [
    {
     "name": "stderr",
     "output_type": "stream",
     "text": [
      "gen\tnevals\tavg    \tstd   \tmin   \tmax  \n",
      "1  \t40    \t3555.56\t5385.9\t5.6022\t12000\n"
     ]
    },
    {
     "data": {
      "application/vnd.jupyter.widget-view+json": {
       "model_id": "eaac602fd76a4654a96ad5c2144f2a90",
       "version_major": 2,
       "version_minor": 0
      },
      "text/plain": [
       "HBox(children=(FloatProgress(value=0.0), HTML(value='')))"
      ]
     },
     "metadata": {},
     "output_type": "display_data"
    },
    {
     "name": "stderr",
     "output_type": "stream",
     "text": [
      "2  \t40    \t2842.65\t4999.43\t2.91695\t12000\n",
      "3  \t20    \t43.2909\t199.031\t2.91695\t1294.02\n",
      "4  \t20    \t1006.64\t3110.93\t2.91695\t12000  \n",
      "5  \t20    \t883.495\t3123.47\t2.91695\t12000  \n",
      "6  \t20    \t1175.62\t3559.03\t2.91695\t12000  \n",
      "7  \t20    \t1467.67\t3925.17\t1.6939 \t12000  \n",
      "8  \t20    \t1182.75\t3557.03\t1.6939 \t12000  \n",
      "9  \t20    \t882.006\t3123.89\t1.6939 \t12000  \n",
      "10 \t20    \t1979.81\t4375.39\t1.6939 \t12000  \n",
      "11 \t20    \t1906.92\t4231.41\t1.6939 \t12000  \n",
      "12 \t20    \t2050.53\t4514.5 \t1.6939 \t12000  \n",
      "13 \t20    \t2343.48\t4754.54\t1.6939 \t12000  \n",
      "14 \t20    \t2051.53\t4514.04\t1.68607\t12000  \n",
      "15 \t20    \t2564.16\t4849.01\t1.68607\t12000  \n",
      "16 \t20    \t1466.51\t3925.6 \t1.68607\t12000  \n",
      "17 \t20    \t1758.45\t4240.4 \t1.66452\t12000  \n",
      "18 \t20    \t1978.99\t4375.73\t1.6469 \t12000  \n",
      "19 \t20    \t1687.1 \t4087.11\t1.6469 \t12000  \n",
      "20 \t20    \t2636.76\t4965.61\t1.6469 \t12000  \n",
      "21 \t20    \t589.227\t2584.03\t1.55346\t12000  \n",
      "22 \t20    \t2929.33\t5151.8 \t1.55346\t12000  \n",
      "23 \t20    \t3221.58\t5315.6 \t1.55346\t12000  \n",
      "24 \t20    \t2343.75\t4754.41\t1.55346\t12000  \n",
      "25 \t20    \t2343.22\t4754.67\t1.55346\t12000  \n",
      "26 \t20    \t2784.17\t4932.17\t1.55346\t12000  \n",
      "27 \t20    \t2928.65\t5152.18\t1.55346\t12000  \n",
      "28 \t20    \t2344.03\t4754.27\t1.55346\t12000  \n",
      "29 \t20    \t4098.8 \t5689.51\t1.55346\t12000  \n",
      "30 \t20    \t2343.09\t4754.73\t1.55346\t12000  \n",
      "31 \t20    \t2050.4 \t4514.56\t1.55346\t12000  \n",
      "32 \t20    \t1465.03\t3926.15\t1.55346\t12000  \n",
      "33 \t20    \t1464.89\t3926.2 \t1.55346\t12000  \n",
      "34 \t20    \t3220.74\t5316.11\t1.55346\t12000  \n",
      "35 \t20    \t879.647\t3124.55\t1.55346\t12000  \n",
      "36 \t20    \t1464.98\t3926.17\t1.55346\t12000  \n",
      "37 \t20    \t2050.26\t4514.62\t1.55346\t12000  \n",
      "38 \t20    \t2050.2 \t4514.65\t1.55346\t12000  \n",
      "39 \t20    \t2050.23\t4514.63\t1.55346\t12000  \n",
      "40 \t20    \t1757.64\t4240.74\t1.55346\t12000  \n",
      "41 \t20    \t1172.34\t3560.11\t1.55346\t12000  \n",
      "42 \t20    \t1464.98\t3926.17\t1.46603\t12000  \n",
      "43 \t20    \t3513.37\t5459.17\t0.979412\t12000  \n",
      "44 \t20    \t4098.65\t5689.62\t0.979412\t12000  \n",
      "45 \t20    \t3220.57\t5316.21\t0.979412\t12000  \n",
      "46 \t20    \t2049.81\t4514.83\t0.979412\t12000  \n",
      "47 \t20    \t1.0294 \t0.19999\t0.900365\t2.07636\n",
      "48 \t20    \t2342.3 \t4755.12\t0.900365\t12000  \n",
      "49 \t20    \t2049.62\t4514.91\t0.900365\t12000  \n",
      "50 \t20    \t1464.28\t3926.43\t0.900365\t12000  \n",
      "51 \t20    \t1464.29\t3926.43\t0.900365\t12000  \n",
      "52 \t20    \t1464.38\t3926.39\t0.900365\t12000  \n",
      "53 \t20    \t1756.93\t4241.04\t0.900365\t12000  \n",
      "54 \t20    \t2927.56\t5152.8 \t0.900365\t12000  \n",
      "55 \t20    \t2634.91\t4966.59\t0.900365\t12000  \n",
      "56 \t20    \t1756.95\t4241.02\t0.900365\t12000  \n",
      "57 \t20    \t586.295\t2584.7 \t0.900365\t12000  \n",
      "58 \t20    \t2342.29\t4755.13\t0.900365\t12000  \n",
      "59 \t20    \t2049.58\t4514.93\t0.900365\t12000  \n",
      "60 \t20    \t2342.28\t4755.13\t0.900365\t12000  \n",
      "61 \t20    \t1756.98\t4241.01\t0.900365\t12000  \n",
      "62 \t20    \t2634.95\t4966.57\t0.900365\t12000  \n",
      "63 \t20    \t2049.59\t4514.92\t0.900365\t12000  \n",
      "64 \t20    \t1756.97\t4241.02\t0.900365\t12000  \n",
      "65 \t20    \t2927.58\t5152.79\t0.900365\t12000  \n",
      "66 \t20    \t1756.94\t4241.03\t0.900365\t12000  \n",
      "67 \t20    \t1756.93\t4241.03\t0.900365\t12000  \n",
      "68 \t20    \t2927.58\t5152.79\t0.900365\t12000  \n",
      "69 \t20    \t2634.97\t4966.56\t0.900365\t12000  \n",
      "70 \t20    \t2927.61\t5152.77\t0.900365\t12000  \n",
      "71 \t20    \t2927.68\t5152.73\t0.862609\t12000  \n",
      "72 \t20    \t2927.62\t5152.77\t0.862609\t12000  \n",
      "73 \t20    \t3512.89\t5459.48\t0.862609\t12000  \n",
      "74 \t20    \t4098.2 \t5689.95\t0.862609\t12000  \n",
      "75 \t20    \t4098.21\t5689.94\t0.862609\t12000  \n",
      "76 \t20    \t2049.59\t4514.92\t0.757005\t12000  \n",
      "77 \t20    \t2927.54\t5152.81\t0.757005\t12000  \n",
      "78 \t20    \t2634.9 \t4966.59\t0.757005\t12000  \n",
      "79 \t20    \t2634.88\t4966.6 \t0.757005\t12000  \n",
      "80 \t20    \t2342.23\t4755.16\t0.757005\t12000  \n",
      "81 \t20    \t2049.56\t4514.94\t0.757005\t12000  \n",
      "82 \t20    \t1756.84\t4241.07\t0.757005\t12000  \n",
      "83 \t20    \t586.266\t2584.7 \t0.757005\t12000  \n",
      "84 \t20    \t1464.28\t3926.43\t0.757005\t12000  \n",
      "85 \t20    \t2342.2 \t4755.17\t0.757005\t12000  \n",
      "86 \t20    \t1756.94\t4241.03\t0.757005\t12000  \n",
      "87 \t20    \t2049.59\t4514.93\t0.757005\t12000  \n",
      "88 \t20    \t2635.02\t4966.53\t0.757005\t12000  \n",
      "89 \t20    \t2634.84\t4966.63\t0.658602\t12000  \n",
      "90 \t20    \t586.177\t2584.72\t0.658602\t12000  \n",
      "91 \t20    \t2634.88\t4966.6 \t0.658602\t12000  \n",
      "92 \t20    \t878.91 \t3124.76\t0.658602\t12000  \n",
      "93 \t20    \t2634.85\t4966.62\t0.658602\t12000  \n",
      "94 \t20    \t1756.74\t4241.11\t0.532921\t12000  \n",
      "95 \t20    \t1756.89\t4241.05\t0.532921\t12000  \n",
      "96 \t20    \t3512.81\t5459.53\t0.532921\t12000  \n",
      "97 \t20    \t4098.06\t5690.05\t0.532921\t12000  \n",
      "98 \t20    \t2049.47\t4514.98\t0.532921\t12000  \n",
      "99 \t20    \t3219.95\t5316.58\t0.532921\t12000  \n",
      "100\t20    \t3512.7 \t5459.61\t0.532921\t12000  \n",
      "Run stopped because of stopping criteria: Max ngen\n"
     ]
    },
    {
     "name": "stdout",
     "output_type": "stream",
     "text": [
      "\n"
     ]
    }
   ],
   "source": [
    "efel_filter_iterable = [\n",
    "    \"Spikecount\",\n",
    "    \"adaptation_index2\",\n",
    "    \"peak_voltage\",\n",
    "    \"AHP_depth_abs\"\n",
    "]\n",
    "obs_preds,opt,target = test_opt_relative_diff(specimen_id = 325479788,model_type=\"IZHI\",efel_filter_iterable=efel_filter_iterable)\n",
    "#\"voltage_after_stim\"\n"
   ]
  },
  {
   "cell_type": "code",
   "execution_count": 5,
   "metadata": {},
   "outputs": [
    {
     "data": {
      "image/png": "[encoded data removed]",
      "text/plain": [
       "<Figure size 432x288 with 1 Axes>"
      ]
     },
     "metadata": {
      "needs_background": "light"
     },
     "output_type": "display_data"
    }
   ],
   "source": [
    "\n",
    "check_bin_vm_soma(target,opt)"
   ]
  },
  {
   "cell_type": "code",
   "execution_count": 6,
   "metadata": {},
   "outputs": [
    {
     "data": {
      "text/html": [
       "<div>\n",
       "<style scoped>\n",
       "    .dataframe tbody tr th:only-of-type {\n",
       "        vertical-align: middle;\n",
       "    }\n",
       "\n",
       "    .dataframe tbody tr th {\n",
       "        vertical-align: top;\n",
       "    }\n",
       "\n",
       "    .dataframe thead th {\n",
       "        text-align: right;\n",
       "    }\n",
       "</style>\n",
       "<table border=\"1\" class=\"dataframe\">\n",
       "  <thead>\n",
       "    <tr style=\"text-align: right;\">\n",
       "      <th></th>\n",
       "      <th>C</th>\n",
       "      <th>k</th>\n",
       "      <th>vr</th>\n",
       "      <th>vt</th>\n",
       "      <th>vPeak</th>\n",
       "      <th>a</th>\n",
       "      <th>b</th>\n",
       "      <th>c</th>\n",
       "      <th>d</th>\n",
       "      <th>celltype</th>\n",
       "    </tr>\n",
       "  </thead>\n",
       "  <tbody>\n",
       "    <tr>\n",
       "      <th>0</th>\n",
       "      <td>76.68</td>\n",
       "      <td>0.67</td>\n",
       "      <td>-55.33</td>\n",
       "      <td>-41.46</td>\n",
       "      <td>34.85</td>\n",
       "      <td>0.15</td>\n",
       "      <td>10.7</td>\n",
       "      <td>-59.0</td>\n",
       "      <td>33.69</td>\n",
       "      <td>3</td>\n",
       "    </tr>\n",
       "  </tbody>\n",
       "</table>\n",
       "</div>"
      ],
      "text/plain": [
       "       C     k     vr     vt  vPeak     a     b     c      d  celltype\n",
       "0  76.68  0.67 -55.33 -41.46  34.85  0.15  10.7 -59.0  33.69         3"
      ]
     },
     "execution_count": 6,
     "metadata": {},
     "output_type": "execute_result"
    }
   ],
   "source": [
    "opt.attrs_to_params()\n",
    "params = pd.DataFrame([opt.params])\n",
    "params"
   ]
  },
  {
   "cell_type": "code",
   "execution_count": 7,
   "metadata": {},
   "outputs": [
    {
     "data": {
      "text/html": [
       "<div>\n",
       "<style scoped>\n",
       "    .dataframe tbody tr th:only-of-type {\n",
       "        vertical-align: middle;\n",
       "    }\n",
       "\n",
       "    .dataframe tbody tr th {\n",
       "        vertical-align: top;\n",
       "    }\n",
       "\n",
       "    .dataframe thead th {\n",
       "        text-align: right;\n",
       "    }\n",
       "</style>\n",
       "<table border=\"1\" class=\"dataframe\">\n",
       "  <thead>\n",
       "    <tr style=\"text-align: right;\">\n",
       "      <th></th>\n",
       "      <th>EFEL_feature_NU_test_Name</th>\n",
       "      <th>prediction</th>\n",
       "      <th>observation</th>\n",
       "      <th>neuronunit_score</th>\n",
       "    </tr>\n",
       "  </thead>\n",
       "  <tbody>\n",
       "    <tr>\n",
       "      <th>0</th>\n",
       "      <td>Spikecount</td>\n",
       "      <td>9.000000</td>\n",
       "      <td>9.000000</td>\n",
       "      <td>Relative Difference = 0.00</td>\n",
       "    </tr>\n",
       "    <tr>\n",
       "      <th>1</th>\n",
       "      <td>adaptation_index2</td>\n",
       "      <td>0.091943</td>\n",
       "      <td>-0.002071</td>\n",
       "      <td>Relative Difference = 0.09</td>\n",
       "    </tr>\n",
       "    <tr>\n",
       "      <th>2</th>\n",
       "      <td>peak_voltage</td>\n",
       "      <td>33.027779</td>\n",
       "      <td>33.824911</td>\n",
       "      <td>Relative Difference = 0.80</td>\n",
       "    </tr>\n",
       "    <tr>\n",
       "      <th>3</th>\n",
       "      <td>spike_0</td>\n",
       "      <td>1.074385</td>\n",
       "      <td>1.039500</td>\n",
       "      <td>Relative Difference = 0.03</td>\n",
       "    </tr>\n",
       "    <tr>\n",
       "      <th>4</th>\n",
       "      <td>spike_1</td>\n",
       "      <td>1.133280</td>\n",
       "      <td>1.151000</td>\n",
       "      <td>Relative Difference = 0.02</td>\n",
       "    </tr>\n",
       "    <tr>\n",
       "      <th>5</th>\n",
       "      <td>spike_2</td>\n",
       "      <td>1.203080</td>\n",
       "      <td>1.260750</td>\n",
       "      <td>Relative Difference = 0.06</td>\n",
       "    </tr>\n",
       "    <tr>\n",
       "      <th>6</th>\n",
       "      <td>spike_3</td>\n",
       "      <td>1.274420</td>\n",
       "      <td>1.387250</td>\n",
       "      <td>Relative Difference = 0.11</td>\n",
       "    </tr>\n",
       "    <tr>\n",
       "      <th>7</th>\n",
       "      <td>spike_4</td>\n",
       "      <td>1.350750</td>\n",
       "      <td>1.495250</td>\n",
       "      <td>Relative Difference = 0.14</td>\n",
       "    </tr>\n",
       "    <tr>\n",
       "      <th>8</th>\n",
       "      <td>spike_5</td>\n",
       "      <td>1.440345</td>\n",
       "      <td>1.614500</td>\n",
       "      <td>Relative Difference = 0.17</td>\n",
       "    </tr>\n",
       "    <tr>\n",
       "      <th>9</th>\n",
       "      <td>spike_6</td>\n",
       "      <td>1.541740</td>\n",
       "      <td>1.723500</td>\n",
       "      <td>Relative Difference = 0.18</td>\n",
       "    </tr>\n",
       "    <tr>\n",
       "      <th>10</th>\n",
       "      <td>spike_7</td>\n",
       "      <td>1.679645</td>\n",
       "      <td>1.835000</td>\n",
       "      <td>Relative Difference = 0.16</td>\n",
       "    </tr>\n",
       "    <tr>\n",
       "      <th>11</th>\n",
       "      <td>spike_8</td>\n",
       "      <td>1.891995</td>\n",
       "      <td>1.942250</td>\n",
       "      <td>Relative Difference = 0.05</td>\n",
       "    </tr>\n",
       "  </tbody>\n",
       "</table>\n",
       "</div>"
      ],
      "text/plain": [
       "   EFEL_feature_NU_test_Name  prediction  observation  \\\n",
       "0                 Spikecount    9.000000     9.000000   \n",
       "1          adaptation_index2    0.091943    -0.002071   \n",
       "2               peak_voltage   33.027779    33.824911   \n",
       "3                    spike_0    1.074385     1.039500   \n",
       "4                    spike_1    1.133280     1.151000   \n",
       "5                    spike_2    1.203080     1.260750   \n",
       "6                    spike_3    1.274420     1.387250   \n",
       "7                    spike_4    1.350750     1.495250   \n",
       "8                    spike_5    1.440345     1.614500   \n",
       "9                    spike_6    1.541740     1.723500   \n",
       "10                   spike_7    1.679645     1.835000   \n",
       "11                   spike_8    1.891995     1.942250   \n",
       "\n",
       "              neuronunit_score  \n",
       "0   Relative Difference = 0.00  \n",
       "1   Relative Difference = 0.09  \n",
       "2   Relative Difference = 0.80  \n",
       "3   Relative Difference = 0.03  \n",
       "4   Relative Difference = 0.02  \n",
       "5   Relative Difference = 0.06  \n",
       "6   Relative Difference = 0.11  \n",
       "7   Relative Difference = 0.14  \n",
       "8   Relative Difference = 0.17  \n",
       "9   Relative Difference = 0.18  \n",
       "10  Relative Difference = 0.16  \n",
       "11  Relative Difference = 0.05  "
      ]
     },
     "execution_count": 7,
     "metadata": {},
     "output_type": "execute_result"
    }
   ],
   "source": [
    "df = pd.DataFrame(obs_preds)\n",
    "df.rename(columns={0:'EFEL_feature_NU_test_Name',1:'prediction',2:'observation',3:'neuronunit_score'},inplace=True)\n",
    "df"
   ]
  },
  {
   "cell_type": "markdown",
   "metadata": {},
   "source": [
    "# Example 2\n",
    "* Now fit Adaptive Exponential model to a single sweep from Allen specimen 325479788 sweep number 64"
   ]
  },
  {
   "cell_type": "code",
   "execution_count": null,
   "metadata": {},
   "outputs": [
    {
     "name": "stderr",
     "output_type": "stream",
     "text": [
      "gen\tnevals\tavg    \tstd    \tmin    \tmax  \n",
      "1  \t100   \t3969.03\t6173.34\t8.57557\t17000\n"
     ]
    },
    {
     "data": {
      "application/vnd.jupyter.widget-view+json": {
       "model_id": "529ddef87d294915b31cd1415a18cba3",
       "version_major": 2,
       "version_minor": 0
      },
      "text/plain": [
       "HBox(children=(FloatProgress(value=0.0, max=350.0), HTML(value='')))"
      ]
     },
     "metadata": {},
     "output_type": "display_data"
    },
    {
     "name": "stderr",
     "output_type": "stream",
     "text": [
      "2  \t100   \t4145.58\t6176.58\t6.79438\t17000\n",
      "3  \t50    \t516.575\t2013.29\t5.32646\t12044.7\n",
      "4  \t50    \t156.683\t1214.96\t4.78838\t12044.6\n",
      "5  \t50    \t448.59 \t2516.91\t4.78838\t17000  \n",
      "6  \t50    \t249.697\t1676.61\t4.78838\t12044.5\n",
      "7  \t50    \t127.915\t1191.62\t4.3239 \t12044.1\n",
      "8  \t50    \t127.469\t1191.77\t4.24463\t12045.2\n",
      "9  \t50    \t127.154\t1191.69\t4.24463\t12044  \n",
      "10 \t50    \t126.718\t1191.84\t3.56076\t12045.1\n",
      "11 \t50    \t7.14851\t2.51587\t2.43802\t14.3814\n",
      "12 \t50    \t6.64412\t2.47833\t2.43802\t13.4712\n",
      "13 \t50    \t7.3018 \t2.35433\t2.43802\t13.6973\n",
      "14 \t50    \t6.21944\t2.20469\t2.43802\t14.5782\n",
      "15 \t50    \t5.94901\t2.33838\t2.43802\t13.4784\n",
      "16 \t50    \t5.59885\t1.94806\t2.43802\t10.6839\n",
      "17 \t50    \t5.41441\t1.84822\t2.43802\t14.0301\n",
      "18 \t50    \t5.24899\t1.9269 \t2.37245\t11.8537\n",
      "19 \t50    \t5.08658\t1.63379\t2.37245\t10.0166\n",
      "20 \t50    \t4.43682\t1.59965\t2.37245\t10.6719\n",
      "21 \t50    \t4.18383\t1.38329\t2.3386 \t8.68028\n",
      "22 \t50    \t3.99527\t1.28423\t2.08264\t7.57651\n",
      "23 \t50    \t4.05671\t1.33159\t2.05432\t8.67408\n",
      "24 \t50    \t4.07679\t1.19798\t1.50144\t7.20299\n",
      "25 \t50    \t4.00839\t1.24527\t1.03317\t6.60281\n",
      "26 \t50    \t3.81459\t1.35827\t1.03317\t6.79833\n",
      "27 \t50    \t4.04378\t1.42548\t1.03317\t7.12836\n",
      "28 \t50    \t3.54663\t1.52821\t1.03317\t8.07884\n",
      "29 \t50    \t3.53432\t1.28577\t0.980497\t7.89902\n",
      "30 \t50    \t3.47274\t1.31558\t0.980497\t7.16642\n",
      "31 \t50    \t3.42803\t1.4539 \t0.980497\t7.26255\n"
     ]
    }
   ],
   "source": [
    "efel_filter_iterable = [\n",
    "    \"ISI_log_slope\",\n",
    "    \"mean_frequency\",\n",
    "    \"adaptation_index2\",\n",
    "    \"ISI_CV\",\n",
    "    \"median_isi\",\n",
    "    \"Spikecount\",\n",
    "    \"all_ISI_values\",\n",
    "    \"ISI_values\"\n",
    "    \"peak_voltage\",\n",
    "    \"AHP_depth\",\n",
    "    \"AHP_depth_abs\",\n",
    "    \"base_voltage\",\n",
    "    ]\n",
    "obs_preds,opt,target = test_opt_relative_diff(specimen_id = 325479788,efel_filter_iterable=efel_filter_iterable)\n"
   ]
  },
  {
   "cell_type": "code",
   "execution_count": null,
   "metadata": {},
   "outputs": [],
   "source": [
    "df = pd.DataFrame(obs_preds)\n",
    "df.rename(columns={0:'EFEL_feature_NU_test_Name',1:'prediction',2:'observation',3:'neuronunit_score'},inplace=True)\n",
    "df"
   ]
  },
  {
   "cell_type": "code",
   "execution_count": null,
   "metadata": {},
   "outputs": [],
   "source": [
    "check_bin_vm_soma(target,opt)\n"
   ]
  },
  {
   "cell_type": "code",
   "execution_count": null,
   "metadata": {},
   "outputs": [],
   "source": [
    "opt.attrs_to_params()\n",
    "params = pd.DataFrame([opt.params])\n",
    "params\n"
   ]
  },
  {
   "cell_type": "code",
   "execution_count": null,
   "metadata": {},
   "outputs": [],
   "source": []
  }
 ],
 "metadata": {
  "kernelspec": {
   "display_name": "Python 3",
   "language": "python",
   "name": "python3"
  },
  "language_info": {
   "codemirror_mode": {
    "name": "ipython",
    "version": 3
   },
   "file_extension": ".py",
   "mimetype": "text/x-python",
   "name": "python",
   "nbconvert_exporter": "python",
   "pygments_lexer": "ipython3",
   "version": "3.7.4"
  }
 },
 "nbformat": 4,
 "nbformat_minor": 2
}
